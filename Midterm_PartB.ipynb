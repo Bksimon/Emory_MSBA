{
  "cells": [
    {
      "cell_type": "markdown",
      "metadata": {
        "id": "view-in-github",
        "colab_type": "text"
      },
      "source": [
        "<a href=\"https://colab.research.google.com/github/Bksimon/Emory_MSBA/blob/main/Midterm_PartB.ipynb\" target=\"_parent\"><img src=\"https://colab.research.google.com/assets/colab-badge.svg\" alt=\"Open In Colab\"/></a>"
      ]
    },
    {
      "cell_type": "code",
      "execution_count": 1,
      "metadata": {
        "id": "CtDExWLWzX7O"
      },
      "outputs": [],
      "source": [
        "!apt-get install openjdk-8-jdk-headless -qq > /dev/null\n",
        "!wget -q https://archive.apache.org/dist/spark/spark-3.2.0/spark-3.2.0-bin-hadoop2.7.tgz\n",
        "!tar xf spark-3.2.0-bin-hadoop2.7.tgz\n",
        "!pip install -q findspark\n",
        "\n",
        "import os\n",
        "os.environ[\"JAVA_HOME\"] = \"/usr/lib/jvm/java-8-openjdk-amd64\"\n",
        "os.environ[\"SPARK_HOME\"] = \"/content/spark-3.2.0-bin-hadoop2.7\"\n",
        "\n",
        "import findspark\n",
        "findspark.init()\n",
        "from pyspark.sql import SparkSession\n",
        "spark = SparkSession.builder.master(\"local[*]\").getOrCreate()\n",
        "sc = spark.sparkContext"
      ]
    },
    {
      "cell_type": "code",
      "execution_count": 2,
      "metadata": {
        "colab": {
          "base_uri": "https://localhost:8080/"
        },
        "id": "ZhDwqsci2URw",
        "outputId": "ada03bc9-34fc-4ac7-9970-d213a39ca296"
      },
      "outputs": [
        {
          "output_type": "stream",
          "name": "stdout",
          "text": [
            "Mounted at /content/drive/\n"
          ]
        }
      ],
      "source": [
        "from google.colab import drive\n",
        "drive.mount('/content/drive/')"
      ]
    },
    {
      "cell_type": "code",
      "execution_count": 3,
      "metadata": {
        "colab": {
          "base_uri": "https://localhost:8080/"
        },
        "id": "Q0kvkqr11twR",
        "outputId": "8c2c86ca-8d20-45df-8362-993bd2b01703"
      },
      "outputs": [
        {
          "output_type": "stream",
          "name": "stdout",
          "text": [
            "/content/drive/My Drive/Emory MSBA/Machine Learning II/HW\n"
          ]
        }
      ],
      "source": [
        "%cd /content/drive/My Drive/Emory MSBA/Machine Learning II/HW/"
      ]
    },
    {
      "cell_type": "code",
      "execution_count": 5,
      "metadata": {
        "id": "bUkuSBZT0iSh",
        "colab": {
          "base_uri": "https://localhost:8080/"
        },
        "outputId": "d265ebab-2b48-4c3a-e4b8-02e4636b2e5d"
      },
      "outputs": [
        {
          "output_type": "execute_result",
          "data": {
            "text/plain": [
              "DataFrame[State: string, Account length: int, Area code: int, International plan: string, Voice mail plan: string, Number vmail messages: int, Total day minutes: double, Total day calls: int, Total day charge: double, Total eve minutes: double, Total eve calls: int, Total eve charge: double, Total night minutes: double, Total night calls: int, Total night charge: double, Total intl minutes: double, Total intl calls: int, Total intl charge: double, Customer service calls: int, Churn: boolean]"
            ]
          },
          "metadata": {},
          "execution_count": 5
        }
      ],
      "source": [
        "# Step 1\n",
        "#!hdfs dfs -put churn_train.csv /user/training/mldata\n",
        "#!hdfs dfs -put churn_test.csv /user/training/mldata\n",
        "\n",
        "#Step 2 + 3\n",
        "train = spark.read.csv(\"/content/drive/My Drive/Emory MSBA/Machine Learning II/HW/churn_train.csv\", header='True', inferSchema='True')\n",
        "test = spark.read.csv(\"/content/drive/My Drive/Emory MSBA/Machine Learning II/HW/churn_test.csv\", header='True', inferSchema='True')\n",
        "\n",
        "# Step 3 Cache the data\n",
        "train.cache()"
      ]
    },
    {
      "cell_type": "code",
      "execution_count": 6,
      "metadata": {
        "colab": {
          "base_uri": "https://localhost:8080/"
        },
        "id": "jkXjy9Cf2d4f",
        "outputId": "55c5b3b5-6a48-4b1a-cf21-eb8a12298ea7"
      },
      "outputs": [
        {
          "output_type": "stream",
          "name": "stdout",
          "text": [
            "root\n",
            " |-- State: string (nullable = true)\n",
            " |-- Account length: integer (nullable = true)\n",
            " |-- Area code: integer (nullable = true)\n",
            " |-- International plan: string (nullable = true)\n",
            " |-- Voice mail plan: string (nullable = true)\n",
            " |-- Number vmail messages: integer (nullable = true)\n",
            " |-- Total day minutes: double (nullable = true)\n",
            " |-- Total day calls: integer (nullable = true)\n",
            " |-- Total day charge: double (nullable = true)\n",
            " |-- Total eve minutes: double (nullable = true)\n",
            " |-- Total eve calls: integer (nullable = true)\n",
            " |-- Total eve charge: double (nullable = true)\n",
            " |-- Total night minutes: double (nullable = true)\n",
            " |-- Total night calls: integer (nullable = true)\n",
            " |-- Total night charge: double (nullable = true)\n",
            " |-- Total intl minutes: double (nullable = true)\n",
            " |-- Total intl calls: integer (nullable = true)\n",
            " |-- Total intl charge: double (nullable = true)\n",
            " |-- Customer service calls: integer (nullable = true)\n",
            " |-- Churn: boolean (nullable = true)\n",
            "\n",
            "None\n",
            "+-----+--------------+---------+------------------+---------------+---------------------+-----------------+---------------+----------------+-----------------+---------------+----------------+-------------------+-----------------+------------------+------------------+----------------+-----------------+----------------------+-----+\n",
            "|State|Account length|Area code|International plan|Voice mail plan|Number vmail messages|Total day minutes|Total day calls|Total day charge|Total eve minutes|Total eve calls|Total eve charge|Total night minutes|Total night calls|Total night charge|Total intl minutes|Total intl calls|Total intl charge|Customer service calls|Churn|\n",
            "+-----+--------------+---------+------------------+---------------+---------------------+-----------------+---------------+----------------+-----------------+---------------+----------------+-------------------+-----------------+------------------+------------------+----------------+-----------------+----------------------+-----+\n",
            "|   LA|           117|      408|                No|             No|                    0|            184.5|             97|           31.37|            351.6|             80|           29.89|              215.8|               90|              9.71|               8.7|               4|             2.35|                     1|false|\n",
            "|   IN|            65|      415|                No|             No|                    0|            129.1|            137|           21.95|            228.5|             83|           19.42|              208.8|              111|               9.4|              12.7|               6|             3.43|                     4| true|\n",
            "|   NY|           161|      415|                No|             No|                    0|            332.9|             67|           56.59|            317.8|             97|           27.01|              160.6|              128|              7.23|               5.4|               9|             1.46|                     4| true|\n",
            "|   SC|           111|      415|                No|             No|                    0|            110.4|            103|           18.77|            137.3|            102|           11.67|              189.6|              105|              8.53|               7.7|               6|             2.08|                     2|false|\n",
            "|   HI|            49|      510|                No|             No|                    0|            119.3|            117|           20.28|            215.1|            109|           18.28|              178.7|               90|              8.04|              11.1|               1|              3.0|                     1|false|\n",
            "+-----+--------------+---------+------------------+---------------+---------------------+-----------------+---------------+----------------+-----------------+---------------+----------------+-------------------+-----------------+------------------+------------------+----------------+-----------------+----------------------+-----+\n",
            "only showing top 5 rows\n",
            "\n",
            "None\n"
          ]
        }
      ],
      "source": [
        "# Step 4\n",
        "print(train.printSchema())\n",
        "print(train.show(5))"
      ]
    },
    {
      "cell_type": "code",
      "execution_count": 8,
      "metadata": {
        "id": "2a7vXTzP2n51"
      },
      "outputs": [],
      "source": [
        "### Step 5\n",
        "from pyspark.sql.types import DoubleType\n",
        "from pyspark.sql.functions import UserDefinedFunction\n",
        "\n",
        "# drop the following columns: 'State', 'Area code', 'Total day charge', 'Total eve charge', 'Total night charge', and 'Total intl charge'.\n",
        "columns_to_drop = ['State', 'Area code', 'Total day charge', 'Total eve charge', 'Total night charge', 'Total intl charge']\n",
        "train = train.drop(*columns_to_drop)\n",
        "test = test.drop(*columns_to_drop)"
      ]
    },
    {
      "cell_type": "code",
      "execution_count": 14,
      "metadata": {
        "id": "DgHBKOdr3vzd"
      },
      "outputs": [],
      "source": [
        "# categorical indexers\n",
        "from pyspark.ml.linalg import Vectors\n",
        "from pyspark.ml.feature import VectorAssembler, VectorIndexer, OneHotEncoder, StringIndexer\n",
        "from pyspark.sql import Row\n",
        "\n",
        "# map yes and no to 1 and 0 along with True/False\n",
        "binary_map = {'Yes':1.0, 'No':0.0, True:1.0, False:0.0}\n",
        "toNum = UserDefinedFunction(lambda k: binary_map[k], DoubleType())\n",
        "\n",
        "train = train.drop('State').drop('Area code') \\\n",
        "    .drop('Total day charge').drop('Total eve charge') \\\n",
        "    .drop('Total night charge').drop('Total intl charge') \\\n",
        "    .withColumn('Churn', toNum(train['Churn'])) \\\n",
        "    .withColumn('International plan', toNum(train['International plan'])) \\\n",
        "    .withColumn('Voice mail plan', toNum(train['Voice mail plan'])).cache()\n",
        "\n",
        "test = test.drop('State').drop('Area code') \\\n",
        "    .drop('Total day charge').drop('Total eve charge') \\\n",
        "    .drop('Total night charge').drop('Total intl charge') \\\n",
        "    .withColumn('Churn', toNum(test['Churn'])) \\\n",
        "    .withColumn('International plan', toNum(test['International plan'])) \\\n",
        "    .withColumn('Voice mail plan', toNum(test['Voice mail plan'])).cache()\n"
      ]
    },
    {
      "cell_type": "code",
      "execution_count": 15,
      "metadata": {
        "id": "VgUSJnkO4tFZ"
      },
      "outputs": [],
      "source": [
        "### Step 6\n",
        "assembler = VectorAssembler(inputCols=['Account length',\n",
        "\t\t\t\t\t'international_Vec',\n",
        "\t\t\t\t\t'voice_Vec',\n",
        "\t\t\t\t\t'Number vmail messages',\n",
        "\t\t\t\t\t'Total day minutes',\n",
        "\t\t\t\t\t'Total day calls',\n",
        "\t\t\t\t\t'Total eve minutes',\n",
        "          'Total eve calls',\n",
        "          'Total day calls',\n",
        "          'Total night minutes',\n",
        "          'Total night calls',\n",
        "          'Total intl minutes',\n",
        "          'Total intl calls',\n",
        "          'Customer service calls',\n",
        "\t\t\t\t\t], outputCol='features')"
      ]
    },
    {
      "cell_type": "code",
      "source": [
        "# optional step: stratified sampling\n",
        "stratified_train = train.sampleBy('Churn', fractions={0: 388./2278, 1: 1.0}).cache()\n",
        "\n",
        "# Create dataframe\n",
        "def vectorizeData(data):\n",
        "  #return data.rdd.map(lambda r: [r[-1], Vectors.dense(r[:-1])]).toDF(['label','features'])\n",
        "  return data.rdd.map(lambda x: Row(label=x[-1], features=Vectors.dense(x[:-1]))).toDF()\n",
        "\n",
        "#vectorized_CV_data = vectorizeData(stratified_CV_data)\n",
        "vectorized_train = vectorizeData(train)\n",
        "\n",
        "# Index labels, adding metadata to the label column\n",
        "labelIndexer = StringIndexer(inputCol='label',\n",
        "                             outputCol='indexedLabel').fit(vectorized_train)\n",
        "\n",
        "# Automatically identify categorical features and index them\n",
        "featureIndexer = VectorIndexer(inputCol='features',\n",
        "                               outputCol='indexedFeatures',\n",
        "                               maxCategories=2).fit(vectorized_train)"
      ],
      "metadata": {
        "id": "IfSaPEN58wRr"
      },
      "execution_count": 16,
      "outputs": []
    },
    {
      "cell_type": "code",
      "execution_count": 17,
      "metadata": {
        "colab": {
          "base_uri": "https://localhost:8080/"
        },
        "id": "2pNZHz7q-i_q",
        "outputId": "d5fcac4a-1564-47ae-a162-f21433188dbe"
      },
      "outputs": [
        {
          "output_type": "stream",
          "name": "stdout",
          "text": [
            "+--------------+------------------+---------------+---------------------+-----------------+---------------+-----------------+---------------+-------------------+-----------------+------------------+----------------+----------------------+-----+\n",
            "|Account length|International plan|Voice mail plan|Number vmail messages|Total day minutes|Total day calls|Total eve minutes|Total eve calls|Total night minutes|Total night calls|Total intl minutes|Total intl calls|Customer service calls|Churn|\n",
            "+--------------+------------------+---------------+---------------------+-----------------+---------------+-----------------+---------------+-------------------+-----------------+------------------+----------------+----------------------+-----+\n",
            "|         117.0|               0.0|            0.0|                  0.0|            184.5|           97.0|            351.6|           80.0|              215.8|             90.0|               8.7|             4.0|                   1.0|  0.0|\n",
            "|          65.0|               0.0|            0.0|                  0.0|            129.1|          137.0|            228.5|           83.0|              208.8|            111.0|              12.7|             6.0|                   4.0|  1.0|\n",
            "|         161.0|               0.0|            0.0|                  0.0|            332.9|           67.0|            317.8|           97.0|              160.6|            128.0|               5.4|             9.0|                   4.0|  1.0|\n",
            "+--------------+------------------+---------------+---------------------+-----------------+---------------+-----------------+---------------+-------------------+-----------------+------------------+----------------+----------------------+-----+\n",
            "only showing top 3 rows\n",
            "\n"
          ]
        }
      ],
      "source": [
        "train.show(3)"
      ]
    },
    {
      "cell_type": "code",
      "execution_count": 18,
      "metadata": {
        "id": "3YfsXXkb7oc_"
      },
      "outputs": [],
      "source": [
        "# Step 7\n",
        "# Imports\n",
        "from pyspark.ml.linalg import Vectors\n",
        "from pyspark.ml import Pipeline\n",
        "from pyspark.sql import Row\n",
        "from pyspark.ml.feature import StringIndexer, VectorAssembler\n",
        "from pyspark.ml.classification import DecisionTreeClassifier"
      ]
    },
    {
      "cell_type": "code",
      "execution_count": 19,
      "metadata": {
        "id": "xETyUaIt7qeT"
      },
      "outputs": [],
      "source": [
        "# decision tree model\n",
        "dTree = DecisionTreeClassifier(labelCol='indexedLabel', featuresCol='indexedFeatures')"
      ]
    },
    {
      "cell_type": "code",
      "execution_count": 20,
      "metadata": {
        "id": "lz0IGhvc8HD7"
      },
      "outputs": [],
      "source": [
        "# Step 8\n",
        "\n",
        "pipeline = Pipeline(stages=[labelIndexer, featureIndexer, dTree])"
      ]
    },
    {
      "cell_type": "code",
      "execution_count": 21,
      "metadata": {
        "colab": {
          "base_uri": "https://localhost:8080/"
        },
        "id": "rs-G6SuZ9wXT",
        "outputId": "a743f2c9-95f2-41ae-e180-9713df08a3f4"
      },
      "outputs": [
        {
          "output_type": "stream",
          "name": "stdout",
          "text": [
            "root\n",
            " |-- Account length: double (nullable = true)\n",
            " |-- International plan: double (nullable = true)\n",
            " |-- Voice mail plan: double (nullable = true)\n",
            " |-- Number vmail messages: double (nullable = true)\n",
            " |-- Total day minutes: double (nullable = true)\n",
            " |-- Total day calls: double (nullable = true)\n",
            " |-- Total eve minutes: double (nullable = true)\n",
            " |-- Total eve calls: double (nullable = true)\n",
            " |-- Total night minutes: double (nullable = true)\n",
            " |-- Total night calls: double (nullable = true)\n",
            " |-- Total intl minutes: double (nullable = true)\n",
            " |-- Total intl calls: double (nullable = true)\n",
            " |-- Customer service calls: double (nullable = true)\n",
            " |-- Churn: double (nullable = true)\n",
            "\n"
          ]
        }
      ],
      "source": [
        "train.printSchema()"
      ]
    },
    {
      "cell_type": "code",
      "execution_count": 22,
      "metadata": {
        "id": "1-BFr-428u05",
        "colab": {
          "base_uri": "https://localhost:8080/"
        },
        "outputId": "85435fbd-c3e5-4874-bb28-af8124115a0d"
      },
      "outputs": [
        {
          "output_type": "stream",
          "name": "stdout",
          "text": [
            "DecisionTreeClassificationModel: uid=DecisionTreeClassifier_493fdabc4795, depth=7, numNodes=55, numClasses=2, numFeatures=13\n"
          ]
        }
      ],
      "source": [
        "# Step 9\n",
        "from pyspark.ml.tuning import CrossValidator, ParamGridBuilder\n",
        "from pyspark.ml.evaluation import MulticlassClassificationEvaluator\n",
        "\n",
        "# Search through decision tree's maxDepth parameter for best model\n",
        "paramGrid = ParamGridBuilder().addGrid(dTree.maxDepth, [2,3,4,5,6,7]).build()\n",
        "\n",
        "# Set F-1 score as evaluation metric for best model selection\n",
        "evaluator = MulticlassClassificationEvaluator(labelCol='indexedLabel',\n",
        "                                              predictionCol='prediction', metricName='f1')    \n",
        "\n",
        "# Set up 3-fold cross validation\n",
        "crossval = CrossValidator(estimator=pipeline,\n",
        "                          estimatorParamMaps=paramGrid,\n",
        "                          evaluator=evaluator,\n",
        "                          numFolds=3)\n",
        "\n",
        "CV_model = crossval.fit(vectorized_train)\n",
        "\n",
        "# Fetch best model\n",
        "tree_model = CV_model.bestModel.stages[2]\n",
        "print(tree_model)\n",
        "#print(tree_model.toDebugString())"
      ]
    },
    {
      "cell_type": "code",
      "execution_count": 24,
      "metadata": {
        "id": "JuddVNrM_YP8",
        "colab": {
          "base_uri": "https://localhost:8080/"
        },
        "outputId": "8158ae6f-2b7b-4311-b06a-fc4f955f2550"
      },
      "outputs": [
        {
          "output_type": "stream",
          "name": "stdout",
          "text": [
            "f1 accuracy: 0.9735853631177753\n"
          ]
        }
      ],
      "source": [
        "# Step 10\n",
        "# transform test data\n",
        "vectorized_test_data = vectorizeData(test)\n",
        "\n",
        "transformed_data = CV_model.transform(vectorized_test_data)\n",
        "print(evaluator.getMetricName(), 'accuracy:', evaluator.evaluate(transformed_data))"
      ]
    }
  ],
  "metadata": {
    "colab": {
      "name": "Midterm_PartB.ipynb",
      "provenance": [],
      "authorship_tag": "ABX9TyNgy2WPlISWtmLFT5fsSS1/",
      "include_colab_link": true
    },
    "kernelspec": {
      "display_name": "Python 3",
      "name": "python3"
    },
    "language_info": {
      "name": "python"
    }
  },
  "nbformat": 4,
  "nbformat_minor": 0
}